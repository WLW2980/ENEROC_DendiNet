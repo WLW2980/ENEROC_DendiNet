{
 "cells": [
  {
   "cell_type": "code",
   "execution_count": 1,
   "id": "833e1772-a082-4a96-84d6-95eaaff45343",
   "metadata": {
    "tags": []
   },
   "outputs": [
    {
     "name": "stdout",
     "output_type": "stream",
     "text": [
      "avaiable device: cuda\n"
     ]
    }
   ],
   "source": [
    "import pickle\n",
    "import torch\n",
    "import os\n",
    "import sys\n",
    "import matplotlib.pyplot as plt\n",
    "\n",
    "# return to main dir\n",
    "current_directory = os.getcwd()\n",
    "main_dir = os.path.dirname(current_directory+'/dataloader/')\n",
    "sys.path.append(main_dir)\n",
    "\n",
    "from model.baseline.gru import GRU\n",
    "from model.baseline.bi_gru import biGRU\n",
    "from model.baseline.lstm import LSTM\n",
    "from model.baseline.bi_lstm import biLSTM\n",
    "from model.baseline.rnn import RNN\n",
    "from model.baseline.bi_rnn import biRNN\n",
    "from model.transformer import Transformer\n",
    "from model.dendinet import DendiNet\n",
    "\n",
    "from utils.loss import rmse, mse, rmse_tsf\n",
    "from utils.F_train_validate import fit, validate\n",
    "from utils.F_train_validate_dendinet import fit as fit_DendiNet\n",
    "from utils.F_train_validate_dendinet import validate as validate_DendiNet\n",
    "\n",
    "from configs.LSTM_GRU_configs import Configs as Configs_LSTM_GRU\n",
    "from configs.DendiNet_configs import Configs as Configs_DendiNet\n",
    "\n",
    "\n",
    "device = torch.device('cuda' if torch.cuda.is_available() else 'cpu')\n",
    "print(f'avaiable device: {device}')"
   ]
  },
  {
   "cell_type": "markdown",
   "id": "3fe692e6-0cdd-4eda-a367-148aa4bf68d2",
   "metadata": {},
   "source": [
    "### upload dataloaders"
   ]
  },
  {
   "cell_type": "code",
   "execution_count": 2,
   "id": "672342ce-15ff-4220-8852-22d3d04aa439",
   "metadata": {
    "tags": []
   },
   "outputs": [
    {
     "name": "stdout",
     "output_type": "stream",
     "text": [
      "Test dataloaders for GRU, LSTM, RNN are loaded!\n"
     ]
    }
   ],
   "source": [
    "with open('dataloader/save/LSTM_GRU/US06_test_-10_loader.pkl', 'rb') as file:\n",
    "    US06_test_loader = pickle.load(file)\n",
    "with open('dataloader/save/LSTM_GRU/HWFTa_test_-10_loader.pkl', 'rb') as file:\n",
    "    HWFTa_test_loader = pickle.load(file)\n",
    "\n",
    "print(f'Test dataloaders for GRU, LSTM, RNN are loaded!')"
   ]
  },
  {
   "cell_type": "code",
   "execution_count": 3,
   "id": "4dcd7bfc-6727-4ceb-a79b-6753a7be915b",
   "metadata": {
    "tags": []
   },
   "outputs": [
    {
     "name": "stdout",
     "output_type": "stream",
     "text": [
      "Test dataloaders for DendiNet are loaded!\n"
     ]
    }
   ],
   "source": [
    "with open('dataloader/save/DendiNet/US06_test_-10_loader.pkl', 'rb') as file:\n",
    "    US06_test_loader_dendinet = pickle.load(file)\n",
    "with open('dataloader/save/DendiNet/HWFTa_test_-10_loader.pkl', 'rb') as file:\n",
    "    HWFTa_test_loader_dendinet = pickle.load(file)\n",
    "print(f'Test dataloaders for DendiNet are loaded!')"
   ]
  },
  {
   "cell_type": "markdown",
   "id": "52fdf90e-076a-4e04-8f07-629a9eaa9a86",
   "metadata": {},
   "source": [
    "### upload models"
   ]
  },
  {
   "cell_type": "code",
   "execution_count": 4,
   "id": "fae4fa25-e824-4718-b588-2b76c98e621b",
   "metadata": {
    "tags": []
   },
   "outputs": [
    {
     "data": {
      "text/plain": [
       "<All keys matched successfully>"
      ]
     },
     "execution_count": 4,
     "metadata": {},
     "output_type": "execute_result"
    }
   ],
   "source": [
    "# load models\n",
    "configs_LSTM_GRU = Configs_LSTM_GRU()\n",
    "\n",
    "# RNN\n",
    "GRU_model_save_dir = os.path.dirname(main_dir) + '/model_save/GRU.pth'\n",
    "GRU_model = GRU(configs_LSTM_GRU).to(device)\n",
    "GRU_model.load_state_dict(torch.load(GRU_model_save_dir))\n",
    "\n",
    "# biRNN\n",
    "biGRU_model_save_dir = os.path.dirname(main_dir) + '/model_save/biGRU.pth'\n",
    "biGRU_model = biGRU(configs_LSTM_GRU).to(device)\n",
    "biGRU_model.load_state_dict(torch.load(biGRU_model_save_dir))\n",
    "\n",
    "# LSTM\n",
    "LSTM_model_save_dir = os.path.dirname(main_dir) + '/model_save/LSTM.pth'\n",
    "LSTM_model = LSTM(configs_LSTM_GRU).to(device)\n",
    "LSTM_model.load_state_dict(torch.load(LSTM_model_save_dir))\n",
    "\n",
    "# biLSTM\n",
    "biLSTM_model_save_dir = os.path.dirname(main_dir) + '/model_save/biLSTM.pth'\n",
    "biLSTM_model = biLSTM(configs_LSTM_GRU).to(device)\n",
    "biLSTM_model.load_state_dict(torch.load(biLSTM_model_save_dir))\n",
    "\n",
    "# RNN\n",
    "RNN_model_save_dir = os.path.dirname(main_dir) + '/model_save/RNN.pth'\n",
    "RNN_model = RNN(configs_LSTM_GRU).to(device)\n",
    "RNN_model.load_state_dict(torch.load(RNN_model_save_dir))\n",
    "\n",
    "# biRNN\n",
    "biRNN_model_save_dir = os.path.dirname(main_dir) + '/model_save/biRNN.pth'\n",
    "biRNN_model = biRNN(configs_LSTM_GRU).to(device)\n",
    "biRNN_model.load_state_dict(torch.load(biRNN_model_save_dir))"
   ]
  },
  {
   "cell_type": "code",
   "execution_count": 5,
   "id": "b81ac1bf-afd6-4369-ab0e-6aed8e12fa6a",
   "metadata": {
    "tags": []
   },
   "outputs": [
    {
     "data": {
      "text/plain": [
       "<All keys matched successfully>"
      ]
     },
     "execution_count": 5,
     "metadata": {},
     "output_type": "execute_result"
    }
   ],
   "source": [
    "# transformer\n",
    "configs_transformer = Configs_DendiNet()\n",
    "transformer_model_save_dir = os.path.dirname(main_dir) + '/model_save/transformer.pth'\n",
    "transformer_model = Transformer(configs_transformer).to(device)\n",
    "transformer_model.load_state_dict(torch.load(transformer_model_save_dir))"
   ]
  },
  {
   "cell_type": "code",
   "execution_count": 6,
   "id": "1653b69d-ac09-44b5-a47d-088b4bdc834e",
   "metadata": {
    "tags": []
   },
   "outputs": [
    {
     "name": "stderr",
     "output_type": "stream",
     "text": [
      "/root/miniconda3/lib/python3.8/site-packages/torch/nn/modules/lazy.py:180: UserWarning: Lazy modules are a new feature under heavy development so changes to the API or functionality can happen at any moment.\n",
      "  warnings.warn('Lazy modules are a new feature under heavy development '\n"
     ]
    },
    {
     "data": {
      "text/plain": [
       "<All keys matched successfully>"
      ]
     },
     "execution_count": 6,
     "metadata": {},
     "output_type": "execute_result"
    }
   ],
   "source": [
    "# DendiNet\n",
    "configs_DendiNet = Configs_DendiNet()\n",
    "DendiNet_model_save_dir = os.path.dirname(main_dir) + '/model_save/DendiNet.pth'\n",
    "DendiNet_model = DendiNet(configs_DendiNet).to(device)\n",
    "DendiNet_model.load_state_dict(torch.load(DendiNet_model_save_dir))"
   ]
  },
  {
   "cell_type": "markdown",
   "id": "17a30e01-02a7-4f44-bf52-e07cd27da344",
   "metadata": {},
   "source": [
    "## valiate on test data"
   ]
  },
  {
   "cell_type": "markdown",
   "id": "d6c21283-c1a1-4d0e-9055-d02a3dc94747",
   "metadata": {},
   "source": [
    "### US06"
   ]
  },
  {
   "cell_type": "code",
   "execution_count": 7,
   "id": "8b9905e4-71bc-4244-8332-f695a22a2a62",
   "metadata": {
    "tags": []
   },
   "outputs": [],
   "source": [
    "# validation for GRU, LSTM, RNN\n",
    "_, US06_target_log, GRU_US06_pred_log = validate(GRU_model, US06_test_loader, rmse, device=device)\n",
    "_, _, biGRU_US06_pred_log = validate(biGRU_model, US06_test_loader, rmse, device=device)\n",
    "_, _, LSTM_US06_pred_log = validate(LSTM_model, US06_test_loader, rmse, device=device)\n",
    "_, _, biLSTM_US06_pred_log = validate(biLSTM_model, US06_test_loader, rmse, device=device)\n",
    "_, _, RNN_US06_pred_log = validate(RNN_model, US06_test_loader, rmse, device=device)\n",
    "_, _, biRNN_US06_pred_log = validate(biRNN_model, US06_test_loader, rmse, device=device)"
   ]
  },
  {
   "cell_type": "code",
   "execution_count": 8,
   "id": "058177fa-0536-43b0-a071-41dee493473e",
   "metadata": {
    "tags": []
   },
   "outputs": [],
   "source": [
    "# validation for transformer\n",
    "_, trans_US06_target_log, trans_US06_pred_log = validate_DendiNet(transformer_model, US06_test_loader_dendinet, mse, device=device)"
   ]
  },
  {
   "cell_type": "code",
   "execution_count": 9,
   "id": "fd9cc895-fe49-4338-8465-0262d6c9bde2",
   "metadata": {
    "tags": []
   },
   "outputs": [],
   "source": [
    "# validation for DendiNet\n",
    "_, DendiNet_US06_target_log, DendiNet_US06_pred_log = validate_DendiNet(DendiNet_model, US06_test_loader_dendinet, mse, device=device)"
   ]
  },
  {
   "cell_type": "code",
   "execution_count": 10,
   "id": "2c587706-e6e3-419b-a0fb-61bcc4e763ac",
   "metadata": {
    "tags": []
   },
   "outputs": [],
   "source": [
    "# save it to .pt file\n",
    "US06_test_log = {'target': US06_target_log,\n",
    "                 'target4trans':trans_US06_target_log.reshape(-1),\n",
    "                 'target4dendinet': DendiNet_US06_target_log.reshape(-1),\n",
    "                 'GRU': GRU_US06_pred_log,\n",
    "                 'biGRU': biGRU_US06_pred_log,\n",
    "                 'LSTM': LSTM_US06_pred_log,\n",
    "                 'biLSTM': biLSTM_US06_pred_log,\n",
    "                 'RNN': RNN_US06_pred_log,\n",
    "                 'biRNN': biRNN_US06_pred_log,\n",
    "                 'transformer':trans_US06_pred_log.reshape(-1),\n",
    "                 'DendiNet': DendiNet_US06_pred_log.reshape(-1)\n",
    "                }\n",
    "\n",
    "US06_filename = 'US06_-10.pt'\n",
    "torch.save(US06_test_log, 'visualization/test_log_save/'+US06_filename)"
   ]
  },
  {
   "cell_type": "markdown",
   "id": "67d020b5-7c3d-4ded-9016-ff6c26c4f423",
   "metadata": {},
   "source": [
    "### HWFTa"
   ]
  },
  {
   "cell_type": "code",
   "execution_count": 11,
   "id": "6ad36450-b5f3-4468-8eb2-091d362d99de",
   "metadata": {},
   "outputs": [],
   "source": [
    "# validation for GRU, LSTM, RNN\n",
    "_, HWFTa_target_log, GRU_HWFTa_pred_log = validate(GRU_model, HWFTa_test_loader, rmse, device=device)\n",
    "_, _, biGRU_HWFTa_pred_log = validate(biGRU_model, HWFTa_test_loader, rmse, device=device)\n",
    "_, _, LSTM_HWFTa_pred_log = validate(LSTM_model, HWFTa_test_loader, rmse, device=device)\n",
    "_, _, biLSTM_HWFTa_pred_log = validate(biLSTM_model, HWFTa_test_loader, rmse, device=device)\n",
    "_, _, RNN_HWFTa_pred_log = validate(RNN_model, HWFTa_test_loader, rmse, device=device)\n",
    "_, _, biRNN_HWFTa_pred_log = validate(biRNN_model, HWFTa_test_loader, rmse, device=device)"
   ]
  },
  {
   "cell_type": "code",
   "execution_count": 12,
   "id": "05cc034b-6036-4d99-9f30-a30e3aba91ac",
   "metadata": {
    "tags": []
   },
   "outputs": [],
   "source": [
    "# validation for transformer\n",
    "_, trans_HWFTa_target_log, trans_HWFTa_pred_log = validate_DendiNet(transformer_model, HWFTa_test_loader_dendinet, mse, device=device)"
   ]
  },
  {
   "cell_type": "code",
   "execution_count": 13,
   "id": "53f9e10c-f13d-488b-9c23-c0c0ad250044",
   "metadata": {
    "tags": []
   },
   "outputs": [],
   "source": [
    "# validation for DendiNet\n",
    "_, DendiNet_HWFTa_target_log, DendiNet_HWFTa_pred_log = validate_DendiNet(DendiNet_model, HWFTa_test_loader_dendinet, mse, device=device)"
   ]
  },
  {
   "cell_type": "code",
   "execution_count": 14,
   "id": "58fdde8f-3e19-4303-ad92-23f27665d528",
   "metadata": {
    "tags": []
   },
   "outputs": [],
   "source": [
    "# save it to .pt file\n",
    "HWFTa_test_log = {'target': HWFTa_target_log,\n",
    "                 'target4trans':trans_HWFTa_target_log.reshape(-1),\n",
    "                 'target4dendinet': DendiNet_HWFTa_target_log.reshape(-1),\n",
    "                 'GRU': GRU_HWFTa_pred_log,\n",
    "                 'biGRU': biGRU_HWFTa_pred_log,\n",
    "                 'LSTM': LSTM_HWFTa_pred_log,\n",
    "                 'biLSTM': biLSTM_HWFTa_pred_log,\n",
    "                 'RNN': RNN_HWFTa_pred_log,\n",
    "                 'biRNN': biRNN_HWFTa_pred_log,\n",
    "                 'transformer':trans_HWFTa_pred_log.reshape(-1),\n",
    "                 'DendiNet': DendiNet_HWFTa_pred_log.reshape(-1)\n",
    "                }\n",
    "\n",
    "HWFTa_filename = 'HWFTa_-10.pt'\n",
    "torch.save(HWFTa_test_log, 'visualization/test_log_save/'+HWFTa_filename)"
   ]
  },
  {
   "cell_type": "code",
   "execution_count": null,
   "id": "2ae6f648-be76-47a0-b660-a85987c09dff",
   "metadata": {},
   "outputs": [],
   "source": []
  }
 ],
 "metadata": {
  "kernelspec": {
   "display_name": "Python 3 (ipykernel)",
   "language": "python",
   "name": "python3"
  },
  "language_info": {
   "codemirror_mode": {
    "name": "ipython",
    "version": 3
   },
   "file_extension": ".py",
   "mimetype": "text/x-python",
   "name": "python",
   "nbconvert_exporter": "python",
   "pygments_lexer": "ipython3",
   "version": "3.8.10"
  }
 },
 "nbformat": 4,
 "nbformat_minor": 5
}
